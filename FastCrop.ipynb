{
 "cells": [
  {
   "cell_type": "code",
   "execution_count": 7,
   "metadata": {},
   "outputs": [],
   "source": [
    "from functions import crop, mkdir\n",
    "import os, glob\n",
    "import time"
   ]
  },
  {
   "cell_type": "code",
   "execution_count": 8,
   "metadata": {},
   "outputs": [],
   "source": [
    "#to make the architecture of result directories exactly the same as the input's\n",
    "def auto_cropping(path_input, output_folder=\"./results\"):\n",
    "    # create the result folder\n",
    "    mkdir(output_folder)\n",
    "    \n",
    "    # mirror the structure of the input folder (first level)\n",
    "    mkdir(output_folder+path_input[1:])\n",
    "\n",
    "    # mirror the structure of the input folder (second level)\n",
    "    for dir1 in glob.glob(path_input+\"*\"):\n",
    "        mkdir(output_folder+dir1[1:])\n",
    "        \n",
    "        # mirror the structure of the input folder (third level)\n",
    "        for dir2 in glob.glob(dir1+\"/*\"):\n",
    "            mkdir(output_folder+dir2[1:])\n",
    "            \n",
    "            # get filenames (whole path)\n",
    "            input_files = glob.glob(dir2+\"/*\")\n",
    "            \n",
    "            # append output_folder to filenames (to save results)\n",
    "            output_names = [output_folder+file[1:] for file in input_files]\n",
    "            \n",
    "            # crop all pictures in input_files and save it as output_names\n",
    "            crop(input_files, output_names)"
   ]
  },
  {
   "cell_type": "code",
   "execution_count": 3,
   "metadata": {},
   "outputs": [],
   "source": []
  },
  {
   "cell_type": "code",
   "execution_count": 9,
   "metadata": {},
   "outputs": [
    {
     "name": "stdout",
     "output_type": "stream",
     "text": [
      "--- 5.563127040863037 seconds ---\n"
     ]
    }
   ],
   "source": [
    "start_time = time.time()\n",
    "auto_cropping(path_input=\"./NPM1/\")\n",
    "print(\"--- %s seconds ---\" % (time.time() - start_time))"
   ]
  },
  {
   "cell_type": "code",
   "execution_count": null,
   "metadata": {},
   "outputs": [],
   "source": [
    "io.imread(filename)"
   ]
  },
  {
   "cell_type": "code",
   "execution_count": null,
   "metadata": {},
   "outputs": [],
   "source": [
    "for "
   ]
  },
  {
   "cell_type": "code",
   "execution_count": null,
   "metadata": {},
   "outputs": [],
   "source": []
  }
 ],
 "metadata": {
  "kernelspec": {
   "display_name": "Python [conda env:image_proc]",
   "language": "python",
   "name": "conda-env-image_proc-py"
  },
  "language_info": {
   "codemirror_mode": {
    "name": "ipython",
    "version": 3
   },
   "file_extension": ".py",
   "mimetype": "text/x-python",
   "name": "python",
   "nbconvert_exporter": "python",
   "pygments_lexer": "ipython3",
   "version": "3.8.3"
  }
 },
 "nbformat": 4,
 "nbformat_minor": 2
}
